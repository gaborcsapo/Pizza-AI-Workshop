{
 "cells": [
  {
   "cell_type": "markdown",
   "metadata": {},
   "source": [
    "# Introduction Tutorial\n",
    "### Welcome to a Jupyter Notebook!\n",
    "\n",
    "This is what a jupyter notebook looks like! This cell is a **markdown** cell. You can edit text or insert images with very simple formatting.\n",
    "\n",
    "### Before we continue... Some useful Jupyter shortcuts\n",
    "\n",
    "* shift + enter -> run cell\n",
    "* esc + m -> make a cell markdown\n",
    "* esc + a -> insert cell above\n",
    "* esc + b -> insert cell below\n",
    "* esc + d + d (double press d key) -> delete cell\n",
    "\n",
    "(or just use the buttons in the header)"
   ]
  },
  {
   "cell_type": "markdown",
   "metadata": {},
   "source": [
    "---\n",
    "# Quick review of Python\n",
    "\n",
    "We will have a quick review of Python syntax before moving onto Pandas.\n",
    "\n",
    "1. Data types\n",
    "2. If Else\n",
    "3. Loops"
   ]
  },
  {
   "cell_type": "code",
   "execution_count": null,
   "metadata": {},
   "outputs": [],
   "source": [
    "# Data types\n",
    "\n",
    "myInteger = 1\n",
    "myFloat = 1.2\n",
    "myString = \"I am a string!\"\n",
    "myList = [1,2,3,100,\"a random string\"]\n",
    "myDict = {\"name\": \"panda\", \"favorite_food\": \"pizza\"}\n",
    "myBool = True\n",
    "\n",
    "print(myString)"
   ]
  },
  {
   "cell_type": "markdown",
   "metadata": {},
   "source": [
    "One thing to remember is that we can freely index strings and lists with the bracket notation, like:"
   ]
  },
  {
   "cell_type": "code",
   "execution_count": null,
   "metadata": {},
   "outputs": [],
   "source": [
    "#printing second element only of [1,2,3,100,\"a random string\"]\n",
    "myList[1]"
   ]
  },
  {
   "cell_type": "code",
   "execution_count": null,
   "metadata": {},
   "outputs": [],
   "source": [
    "# printing from sixth character to the end of \"I am a string!\"\n",
    "myString[2:]"
   ]
  },
  {
   "cell_type": "markdown",
   "metadata": {},
   "source": [
    "### 2. Condition Statements\n",
    "\n",
    "Unlike other languages, we don't need to put brackets around if else conditions. We also don't need curly brackets for the block of code to execute."
   ]
  },
  {
   "cell_type": "code",
   "execution_count": null,
   "metadata": {},
   "outputs": [],
   "source": [
    "if myBool:\n",
    "    print(\"myBool value is True\")"
   ]
  },
  {
   "cell_type": "markdown",
   "metadata": {},
   "source": [
    "To check if a variable is not assigned or None, we can simple write `if not some_var` instead of `if some_var is None` or `if some_var == None`"
   ]
  },
  {
   "cell_type": "code",
   "execution_count": null,
   "metadata": {},
   "outputs": [],
   "source": [
    "myName = None\n",
    "\n",
    "if not myName:\n",
    "    myName = \"Al Flower\"\n",
    "    print(\"my Name is \", myName)\n",
    "    \n",
    "else:\n",
    "    print(myName)"
   ]
  },
  {
   "cell_type": "markdown",
   "metadata": {},
   "source": [
    "Checking if a list or string contains a certain character is also very easy. You can just check `if a in b`."
   ]
  },
  {
   "cell_type": "code",
   "execution_count": null,
   "metadata": {},
   "outputs": [],
   "source": [
    "if 1 in myList:\n",
    "    print(\"1 is in myList\")"
   ]
  },
  {
   "cell_type": "markdown",
   "metadata": {},
   "source": [
    "### 3. Loops\n",
    "\n",
    "There is a for loop, while loop, and some other iterators."
   ]
  },
  {
   "cell_type": "code",
   "execution_count": null,
   "metadata": {},
   "outputs": [],
   "source": [
    "# a simple for loop\n",
    "\n",
    "print(\"For loop: \")\n",
    "for i in range(5):\n",
    "    print(i)\n",
    "    \n",
    "# this is same as this\n",
    "print(\"While loop: \")\n",
    "j = 0\n",
    "while j < 5:\n",
    "    print(j)\n",
    "    j += 1\n",
    "    "
   ]
  },
  {
   "cell_type": "code",
   "execution_count": null,
   "metadata": {},
   "outputs": [],
   "source": [
    "# simple list iteration\n",
    "for item in myList:\n",
    "    print(item)"
   ]
  },
  {
   "cell_type": "code",
   "execution_count": null,
   "metadata": {},
   "outputs": [],
   "source": [
    "# simple dictionary iteration\n",
    "for key in myDict:\n",
    "    print(key + \": \" + myDict[key])"
   ]
  },
  {
   "cell_type": "markdown",
   "metadata": {},
   "source": [
    "---\n",
    "\n",
    "# Now on to pandas 🐼\n",
    "\n",
    "Let's first import the `pandas` package and give it a shorthand `pd` so it's easier to call it. You can name it whatever you want but it's usually standardized to `pd`.\n",
    "\n",
    "Same for `matplotlib`!\n",
    "\n",
    "\n",
    "### Getting help\n",
    "\n",
    "To open up a documentation window about specific methods, you can run `pd.some_method?`"
   ]
  },
  {
   "cell_type": "code",
   "execution_count": null,
   "metadata": {},
   "outputs": [],
   "source": [
    "import pandas as pd\n",
    "import matplotlib.pyplot as plt\n",
    "%matplotlib inline"
   ]
  },
  {
   "cell_type": "code",
   "execution_count": null,
   "metadata": {},
   "outputs": [],
   "source": [
    "print(pd.__version__)"
   ]
  },
  {
   "cell_type": "markdown",
   "metadata": {},
   "source": [
    "## DataFrame\n",
    "\n",
    "What makes pandas so special is its use of dataframes to manipulate, clean, and understand datasets.\n",
    "\n",
    "DataFrames are like tables while Series are like single-column tables/vectors."
   ]
  },
  {
   "cell_type": "code",
   "execution_count": null,
   "metadata": {},
   "outputs": [],
   "source": [
    "# Try running this cell to see what the documentation says about dataframes!\n",
    "pd.DataFrame?"
   ]
  },
  {
   "cell_type": "markdown",
   "metadata": {},
   "source": [
    "## Creating DataFrames\n",
    "\n",
    "There are multiple ways to read in data to a dataframe. Pandas reads in most data types beautifully.\n",
    "\n",
    "Most common ways are:\n",
    "* `pd.read_csv(\"some_file_name.csv\")` method; you can also read in .tsv, .txt etc.\n",
    "* `pd.read_json(\"some_json.json\")` method\n",
    "* `pd.read_excel(\"some_excel.xlsx\")` method\n",
    "* convert a list or a dictionary into a dataframe\n",
    "\n",
    "Here we will create a sample dataframe with a dictionary and look at some default methods like\n",
    "* head() & tail()\n",
    "* shape\n",
    "* drop()\n",
    "* set_index()\n",
    "* dtypes\n",
    "* mean(), std(), describe()"
   ]
  },
  {
   "cell_type": "code",
   "execution_count": null,
   "metadata": {},
   "outputs": [],
   "source": [
    "df = pd.DataFrame({\"StudentCount2018\": [None, 8, 32, 60],\n",
    "                   \"HeadFaculty\": [\"Craig\", \"Taneli\", \"Godfried\", \"Herves\"],\n",
    "                   \"Building\": [\"C3\", \"A6\", \"A2\", \"A5\"],\n",
    "                   \"FacultyCount\": [5, 6, 9, 15],\n",
    "                   \"ClassesOffered\": [9, 7, 9, 13],\n",
    "                   \"Major\": [\"Interactive Media\", \"Philosophy\", \"Computer Science\", \"Economics\"]})"
   ]
  },
  {
   "cell_type": "code",
   "execution_count": null,
   "metadata": {},
   "outputs": [],
   "source": [
    "df"
   ]
  },
  {
   "cell_type": "code",
   "execution_count": null,
   "metadata": {},
   "outputs": [],
   "source": [
    "# summarizes the data types of all columns\n",
    "df.dtypes"
   ]
  },
  {
   "cell_type": "code",
   "execution_count": null,
   "metadata": {},
   "outputs": [],
   "source": [
    "# head() and tail() display the first and last n number of rows; default is 5\n",
    "df.head()"
   ]
  },
  {
   "cell_type": "code",
   "execution_count": null,
   "metadata": {},
   "outputs": [],
   "source": [
    "# sets the index as the Major\n",
    "df.set_index(\"Major\")"
   ]
  },
  {
   "cell_type": "code",
   "execution_count": null,
   "metadata": {},
   "outputs": [],
   "source": [
    "# drops rows or columns; to drop columns you need to specify axis=1\n",
    "df.drop(\"ClassesOffered\", axis=1)"
   ]
  },
  {
   "cell_type": "code",
   "execution_count": null,
   "metadata": {},
   "outputs": [],
   "source": [
    "df.mean()"
   ]
  },
  {
   "cell_type": "code",
   "execution_count": null,
   "metadata": {},
   "outputs": [],
   "source": [
    "df.describe()"
   ]
  },
  {
   "cell_type": "code",
   "execution_count": null,
   "metadata": {},
   "outputs": [],
   "source": [
    "# sort values by specific columns\n",
    "df.sort_values('StudentCount2018', ascending=False)"
   ]
  },
  {
   "cell_type": "markdown",
   "metadata": {},
   "source": [
    "## 🐛🐛🐛🐛🐛 COMMON BUG 🐛🐛🐛🐛🐛\n",
    "\n",
    "Often, we forget to save a modified dataframe to itself or to a new variable. Always remember to do either\n",
    "\n",
    "* `df = df.sort_values()`\n",
    "\n",
    "OR\n",
    "\n",
    "* `df.sort_values(... inplace=True)`\n",
    "\n",
    "This applies to not only `sort_values()` but also `drop()`, `set_index()` etc."
   ]
  },
  {
   "cell_type": "markdown",
   "metadata": {},
   "source": [
    "---\n",
    "\n",
    "## Selecting Data \n",
    "\n",
    "Indexing specific columns, rows and cells is a very important part of data manipulation, as you will see.\n",
    "\n",
    "There are multiple ways of indexing.\n",
    "\n",
    "### Columns\n"
   ]
  },
  {
   "cell_type": "code",
   "execution_count": null,
   "metadata": {},
   "outputs": [],
   "source": [
    "# square bracket notation\n",
    "df['HeadFaculty']"
   ]
  },
  {
   "cell_type": "code",
   "execution_count": null,
   "metadata": {},
   "outputs": [],
   "source": [
    "# .ColName notation\n",
    "df.HeadFaculty"
   ]
  },
  {
   "cell_type": "code",
   "execution_count": null,
   "metadata": {},
   "outputs": [],
   "source": [
    "# print only up to 2 rows\n",
    "df[:2]"
   ]
  },
  {
   "cell_type": "markdown",
   "metadata": {},
   "source": [
    "### Selecting by label\n",
    "\n",
    "To select rows by index of the label, we use df.loc[  ]."
   ]
  },
  {
   "cell_type": "code",
   "execution_count": null,
   "metadata": {},
   "outputs": [],
   "source": [
    "major_df = df.set_index(\"Major\")"
   ]
  },
  {
   "cell_type": "code",
   "execution_count": null,
   "metadata": {},
   "outputs": [],
   "source": [
    "# We can select a row by the label of a index\n",
    "major_df.loc[\"Philosophy\", \"HeadFaculty\"]"
   ]
  },
  {
   "cell_type": "code",
   "execution_count": null,
   "metadata": {},
   "outputs": [],
   "source": [
    "major_df.loc[\"Interactive Media\", \"StudentCount2018\"]"
   ]
  },
  {
   "cell_type": "markdown",
   "metadata": {},
   "source": [
    "### Selecting by position\n",
    "\n",
    "To select rows by their index, we use df.iloc[]"
   ]
  },
  {
   "cell_type": "code",
   "execution_count": null,
   "metadata": {},
   "outputs": [],
   "source": [
    "# print 3rd column of 1st row\n",
    "df.iloc[1, 3]"
   ]
  },
  {
   "cell_type": "code",
   "execution_count": null,
   "metadata": {},
   "outputs": [],
   "source": [
    "# print the 2nd to 5th columns of the 2nd to 4th (not including 4th) rows \n",
    "df.iloc[1:3,1:4]"
   ]
  },
  {
   "cell_type": "markdown",
   "metadata": {},
   "source": [
    "### Selecting by boolean\n",
    "\n",
    "Select rows only if they meet certain condition i.e. evaluate to `True` to some condition. Pretty useful for large datasets!"
   ]
  },
  {
   "cell_type": "code",
   "execution_count": null,
   "metadata": {},
   "outputs": [],
   "source": [
    "# print rows only if there are more than 10 students enrolled\n",
    "df[df.StudentCount2018 > 10]"
   ]
  },
  {
   "cell_type": "markdown",
   "metadata": {},
   "source": [
    "---\n",
    "## Handling missing data\n",
    "\n",
    "In real life data sets, we often get missing or incorrect data values. Pandas has some useful methods for handling those cases. For example:\n",
    "\n",
    "* `dropna()`: drops rows that contain NA values\n",
    "* `fillna(value=valToReplaceWith)`: replaces NA values with some other number like 0, the average, the value of the adjacent cell, a string etc\n"
   ]
  },
  {
   "cell_type": "code",
   "execution_count": null,
   "metadata": {},
   "outputs": [],
   "source": [
    "# See if there's any NA value for a specific column\n",
    "pd.isna(df.StudentCount2018)"
   ]
  },
  {
   "cell_type": "code",
   "execution_count": null,
   "metadata": {},
   "outputs": [],
   "source": [
    "# Just exclude rows that contain NA vals\n",
    "df.dropna()"
   ]
  },
  {
   "cell_type": "code",
   "execution_count": null,
   "metadata": {},
   "outputs": [],
   "source": [
    "df.fillna(0)"
   ]
  },
  {
   "cell_type": "code",
   "execution_count": null,
   "metadata": {},
   "outputs": [],
   "source": [
    "df.fillna(\"NO MAJOR STUDENT\")"
   ]
  },
  {
   "cell_type": "code",
   "execution_count": null,
   "metadata": {},
   "outputs": [],
   "source": [
    "df.fillna(df.mean())"
   ]
  },
  {
   "cell_type": "code",
   "execution_count": null,
   "metadata": {},
   "outputs": [],
   "source": [
    "df.fillna(df.min())"
   ]
  },
  {
   "cell_type": "markdown",
   "metadata": {},
   "source": [
    "### Simple Plot\n",
    "\n",
    "We can use a default .plot() method in pandas to visualize the dataframe."
   ]
  },
  {
   "cell_type": "code",
   "execution_count": null,
   "metadata": {},
   "outputs": [],
   "source": [
    "df.plot?"
   ]
  },
  {
   "cell_type": "code",
   "execution_count": null,
   "metadata": {},
   "outputs": [],
   "source": [
    "df.plot(x=\"Major\", y=\"FacultyCount\",\n",
    "                 kind=\"bar\", title=\"Number of Faculty per Major\")"
   ]
  },
  {
   "cell_type": "markdown",
   "metadata": {},
   "source": [
    "### Matplotlib Plot\n",
    "\n",
    "Or we can use matplotlib library which offers much more customizations.\n",
    "\n",
    "Simple bar chart won't be a huge difference but once there are much more complicated plots matplotlib and other libraries come in very handy."
   ]
  },
  {
   "cell_type": "code",
   "execution_count": null,
   "metadata": {},
   "outputs": [],
   "source": [
    "plt.bar(df.Major, df.FacultyCount, color=['r','c','b','y'])\n",
    "plt.title(\"Number of Faculty per Major\")\n",
    "plt.show()"
   ]
  },
  {
   "cell_type": "markdown",
   "metadata": {},
   "source": [
    "---\n",
    "# Now we are ready to look at real datasets!\n",
    "\n",
    "We can see how all of these that we looked at can be used to understand, clean, and train on a real life datatset."
   ]
  }
 ],
 "metadata": {
  "kernelspec": {
   "display_name": "Python 3",
   "language": "python",
   "name": "python3"
  },
  "language_info": {
   "codemirror_mode": {
    "name": "ipython",
    "version": 3
   },
   "file_extension": ".py",
   "mimetype": "text/x-python",
   "name": "python",
   "nbconvert_exporter": "python",
   "pygments_lexer": "ipython3",
   "version": "3.6.4"
  }
 },
 "nbformat": 4,
 "nbformat_minor": 2
}
